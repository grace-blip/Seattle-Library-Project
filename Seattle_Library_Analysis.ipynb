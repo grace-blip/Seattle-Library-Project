{
 "cells": [
  {
   "cell_type": "markdown",
   "id": "8561a366-2cf6-45af-a80c-05e2d8e1060c",
   "metadata": {},
   "source": [
    "# Seattle Library Checkouts Project\n",
    "**Author: Grace Finlayson**\n",
    "\n",
    "## Purpose\n",
    "\n",
    "The purpose of this jupyter notebook is to analyze just under 5 years of checkout data available from the Seattle library. Some goals are to understand client patterns by considering which genres, authors, and types of books are most popular, as well as study which other products offered by the library such as movies and CDs are popular. This information can be used by administrators to decide which types of products the library should buy more of, and which may be underutilized.\n",
    "\n",
    "This project will be my first contribution to a data analysis portfolio in the hopes of eventually transitioning into data science.\n",
    "\n",
    "### Main Questions\n",
    "\n",
    "- How many check outs occured each year?\n",
    "- What type of item (CD, book, etc.) were the checked out items each year?\n",
    "- "
   ]
  },
  {
   "cell_type": "markdown",
   "id": "80405f39-6b78-4aaf-b44f-dc6cf49ea912",
   "metadata": {},
   "source": [
    "## Import Data and Packages\n",
    "\n",
    "**Warning:** It may take a minute to import the csv files due to their size."
   ]
  },
  {
   "cell_type": "code",
   "execution_count": 1,
   "id": "519c30bc-b612-4d0d-9f31-adb1f696bbc4",
   "metadata": {},
   "outputs": [],
   "source": [
    "import numpy as np\n",
    "import pandas as pd\n",
    "import matplotlib.pyplot as plt\n",
    "import seaborn as sns\n",
    "\n",
    "datatype_dict={'UsageClass': 'string', 'MaterialType': 'string', 'CheckoutYear': 'int64', 'CheckoutMonth': 'int64', 'Checkouts': 'int64', 'Title': 'string', 'ISBN': 'string', 'Creator': 'string', 'Subjects': 'string'}\n",
    "\n",
    "checkouts_2020 = pd.read_csv('kaggle_files/Checkouts_by_Title_2020.csv', dtype = datatype_dict)\n",
    "checkouts_2021 = pd.read_csv('kaggle_files/Checkouts_by_Title_2021.csv', dtype = datatype_dict)\n",
    "checkouts_2022 = pd.read_csv('kaggle_files/Checkouts_by_Title_2022.csv', dtype = datatype_dict)\n",
    "checkouts_2023 = pd.read_csv('kaggle_files/Checkouts_by_Title_2023.csv', dtype = datatype_dict)\n",
    "checkouts_2024 = pd.read_csv('kaggle_files/Checkouts_by_Title_2024.csv', dtype = datatype_dict)"
   ]
  },
  {
   "cell_type": "code",
   "execution_count": 4,
   "id": "e477cad1-8a02-48e4-96a2-8881ab7c56a5",
   "metadata": {},
   "outputs": [
    {
     "data": {
      "text/html": [
       "<div>\n",
       "<style scoped>\n",
       "    .dataframe tbody tr th:only-of-type {\n",
       "        vertical-align: middle;\n",
       "    }\n",
       "\n",
       "    .dataframe tbody tr th {\n",
       "        vertical-align: top;\n",
       "    }\n",
       "\n",
       "    .dataframe thead th {\n",
       "        text-align: right;\n",
       "    }\n",
       "</style>\n",
       "<table border=\"1\" class=\"dataframe\">\n",
       "  <thead>\n",
       "    <tr style=\"text-align: right;\">\n",
       "      <th></th>\n",
       "      <th>UsageClass</th>\n",
       "      <th>MaterialType</th>\n",
       "      <th>CheckoutYear</th>\n",
       "      <th>CheckoutMonth</th>\n",
       "      <th>Checkouts</th>\n",
       "      <th>Title</th>\n",
       "      <th>ISBN</th>\n",
       "      <th>Creator</th>\n",
       "      <th>Subjects</th>\n",
       "    </tr>\n",
       "  </thead>\n",
       "  <tbody>\n",
       "    <tr>\n",
       "      <th>0</th>\n",
       "      <td>Physical</td>\n",
       "      <td>BOOK</td>\n",
       "      <td>2020</td>\n",
       "      <td>8</td>\n",
       "      <td>1</td>\n",
       "      <td>Harvest / Sam Inglis.</td>\n",
       "      <td>&lt;NA&gt;</td>\n",
       "      <td>Inglis, Sam</td>\n",
       "      <td>Young Neil 1945 Harvest</td>\n",
       "    </tr>\n",
       "    <tr>\n",
       "      <th>1</th>\n",
       "      <td>Digital</td>\n",
       "      <td>EBOOK</td>\n",
       "      <td>2020</td>\n",
       "      <td>8</td>\n",
       "      <td>1</td>\n",
       "      <td>The Race Beat</td>\n",
       "      <td>&lt;NA&gt;</td>\n",
       "      <td>Gene Roberts</td>\n",
       "      <td>History, Nonfiction, Politics, Sociology</td>\n",
       "    </tr>\n",
       "    <tr>\n",
       "      <th>2</th>\n",
       "      <td>Digital</td>\n",
       "      <td>EBOOK</td>\n",
       "      <td>2020</td>\n",
       "      <td>8</td>\n",
       "      <td>5</td>\n",
       "      <td>I Can Cook Vegan</td>\n",
       "      <td>&lt;NA&gt;</td>\n",
       "      <td>Isa Chandra Moskowitz</td>\n",
       "      <td>Cooking &amp; Food, Nonfiction</td>\n",
       "    </tr>\n",
       "    <tr>\n",
       "      <th>3</th>\n",
       "      <td>Digital</td>\n",
       "      <td>EBOOK</td>\n",
       "      <td>2020</td>\n",
       "      <td>8</td>\n",
       "      <td>1</td>\n",
       "      <td>Follow the Stars Home</td>\n",
       "      <td>&lt;NA&gt;</td>\n",
       "      <td>Luanne Rice</td>\n",
       "      <td>Fiction, Romance</td>\n",
       "    </tr>\n",
       "    <tr>\n",
       "      <th>4</th>\n",
       "      <td>Digital</td>\n",
       "      <td>EBOOK</td>\n",
       "      <td>2020</td>\n",
       "      <td>8</td>\n",
       "      <td>1</td>\n",
       "      <td>Blood of Innocence</td>\n",
       "      <td>&lt;NA&gt;</td>\n",
       "      <td>Tami Dane</td>\n",
       "      <td>Fantasy, Fiction, Romance</td>\n",
       "    </tr>\n",
       "  </tbody>\n",
       "</table>\n",
       "</div>"
      ],
      "text/plain": [
       "  UsageClass MaterialType  CheckoutYear  CheckoutMonth  Checkouts  \\\n",
       "0   Physical         BOOK          2020              8          1   \n",
       "1    Digital        EBOOK          2020              8          1   \n",
       "2    Digital        EBOOK          2020              8          5   \n",
       "3    Digital        EBOOK          2020              8          1   \n",
       "4    Digital        EBOOK          2020              8          1   \n",
       "\n",
       "                   Title  ISBN                Creator  \\\n",
       "0  Harvest / Sam Inglis.  <NA>            Inglis, Sam   \n",
       "1          The Race Beat  <NA>           Gene Roberts   \n",
       "2       I Can Cook Vegan  <NA>  Isa Chandra Moskowitz   \n",
       "3  Follow the Stars Home  <NA>            Luanne Rice   \n",
       "4     Blood of Innocence  <NA>              Tami Dane   \n",
       "\n",
       "                                   Subjects  \n",
       "0                   Young Neil 1945 Harvest  \n",
       "1  History, Nonfiction, Politics, Sociology  \n",
       "2                Cooking & Food, Nonfiction  \n",
       "3                          Fiction, Romance  \n",
       "4                 Fantasy, Fiction, Romance  "
      ]
     },
     "execution_count": 4,
     "metadata": {},
     "output_type": "execute_result"
    }
   ],
   "source": [
    "checkouts = pd.concat([checkouts_2020, checkouts_2021, checkouts_2022, checkouts_2023, checkouts_2024], ignore_index=True)\n",
    "checkouts.head()"
   ]
  },
  {
   "cell_type": "markdown",
   "id": "3cb8843f-a343-43c8-96d2-5c0b7fa64af0",
   "metadata": {},
   "source": [
    "## How Many Checkouts Ocurred Each Year?"
   ]
  },
  {
   "cell_type": "code",
   "execution_count": 5,
   "id": "2b6ff8b7-6dfa-47d1-921b-24e21ca746f9",
   "metadata": {},
   "outputs": [
    {
     "data": {
      "image/png": "[encoded data removed]",
      "text/plain": [
       "<Figure size 640x480 with 1 Axes>"
      ]
     },
     "metadata": {},
     "output_type": "display_data"
    },
    {
     "data": {
      "text/plain": [
       "<Figure size 640x480 with 0 Axes>"
      ]
     },
     "metadata": {},
     "output_type": "display_data"
    }
   ],
   "source": [
    "checkouts_per_year = checkouts[['CheckoutYear','Title']].groupby(by='CheckoutYear', as_index=False).count().rename(columns={'Title':'CheckoutCount'})\n",
    "\n",
    "sns.barplot(data = checkouts_per_year, x = 'CheckoutYear', y = 'CheckoutCount')\n",
    "plt.show()\n",
    "plt.clf()"
   ]
  }
 ],
 "metadata": {
  "kernelspec": {
   "display_name": "Python 3 (ipykernel)",
   "language": "python",
   "name": "python3"
  },
  "language_info": {
   "codemirror_mode": {
    "name": "ipython",
    "version": 3
   },
   "file_extension": ".py",
   "mimetype": "text/x-python",
   "name": "python",
   "nbconvert_exporter": "python",
   "pygments_lexer": "ipython3",
   "version": "3.12.4"
  }
 },
 "nbformat": 4,
 "nbformat_minor": 5
}
