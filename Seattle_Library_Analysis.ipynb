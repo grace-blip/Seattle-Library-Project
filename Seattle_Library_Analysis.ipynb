{
 "cells": [
  {
   "cell_type": "markdown",
   "id": "8561a366-2cf6-45af-a80c-05e2d8e1060c",
   "metadata": {},
   "source": [
    "# Seattle Library Checkouts Project\n",
    "**Author: Grace Finlayson**\n",
    "\n",
    "## Purpose\n",
    "\n",
    "The purpose of this jupyter notebook is to analyze just under 5 years of checkout data available from the Seattle library. Some goals are to understand client patterns by considering which genres, authors, and types of books are most popular, as well as study which other products offered by the library such as movies and CDs are popular. This information can be used by administrators to decide which types of products the library should buy more of, and which may be underutilized.\n",
    "\n",
    "This project will be my first contribution to a data analysis portfolio in the hopes of eventually transitioning into data science."
   ]
  },
  {
   "cell_type": "code",
   "execution_count": null,
   "id": "5e89a6d2-3455-49a8-b0c9-d36cd9c209de",
   "metadata": {},
   "outputs": [],
   "source": []
  }
 ],
 "metadata": {
  "kernelspec": {
   "display_name": "Python 3 (ipykernel)",
   "language": "python",
   "name": "python3"
  },
  "language_info": {
   "codemirror_mode": {
    "name": "ipython",
    "version": 3
   },
   "file_extension": ".py",
   "mimetype": "text/x-python",
   "name": "python",
   "nbconvert_exporter": "python",
   "pygments_lexer": "ipython3",
   "version": "3.12.4"
  }
 },
 "nbformat": 4,
 "nbformat_minor": 5
}
